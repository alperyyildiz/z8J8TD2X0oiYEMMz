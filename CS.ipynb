{
  "nbformat": 4,
  "nbformat_minor": 0,
  "metadata": {
    "colab": {
      "name": "Case_2_Cascade.ipynb",
      "provenance": [],
      "collapsed_sections": []
    },
    "kernelspec": {
      "name": "python3",
      "display_name": "Python 3"
    }
  },
  "cells": [
    {
      "cell_type": "code",
      "metadata": {
        "id": "G3bV5HZLGEG0",
        "colab": {
          "base_uri": "https://localhost:8080/"
        },
        "outputId": "a804f7ea-bdde-4d4b-c872-46dbb78f763c"
      },
      "source": [
        "import numpy as np\n",
        "import pandas as pd\n",
        "\n",
        "from sklearn.metrics import confusion_matrix, accuracy_score\n",
        "from sklearn.preprocessing import MinMaxScaler, LabelEncoder, OneHotEncoder\n",
        "from sklearn.base import BaseEstimator, ClassifierMixin\n",
        "from sklearn.model_selection import cross_validate, train_test_split\n",
        "from sklearn.ensemble import ExtraTreesClassifier,RandomForestClassifier\n",
        "from lightgbm import LGBMClassifier\n",
        "from mlxtend.classifier import StackingCVClassifier\n",
        "from sklearn.neighbors import KNeighborsClassifier\n",
        "from sklearn.ensemble.weight_boosting import AdaBoostClassifier\n",
        "from sklearn.linear_model import RidgeClassifierCV\n",
        "from xgboost import XGBClassifier\n",
        "\n",
        "import matplotlib.pyplot as plt\n",
        "\n",
        "def ww( df, key, value  ):\n",
        "    \"\"\"\n",
        "        Function to calculate ratio of value_yes / total_yes_in_dataset\n",
        "\n",
        "            example: ( Technician and yes / TOTAL Technician ) / ( TOTAL yes / TOTAL INS )\n",
        "\n",
        "        ratio greater than 1 means a bias, above 1,3 assumed as threshold\n",
        "    \"\"\"\n",
        "\n",
        "\n",
        "    #TOTAL INSTANCES\n",
        "    #TOTAL YES LABELS\n",
        "    TOTAL = len( df )\n",
        "    NUM_YES = sum(df[ 'y' ] == 'yes')\n",
        "\n",
        "    value_mask = df[ key ] == value\n",
        "    DF_VAL = df[ value_mask ]\n",
        "    num_of_value = sum( value_mask )\n",
        "    num_value_YES = sum( DF_VAL['y'] == 'yes' )\n",
        "    \n",
        "    value_yes_ratio = num_value_YES / num_of_value\n",
        "    total_yes_ratio = NUM_YES / TOTAL\n",
        "\n",
        "    return value_yes_ratio / total_yes_ratio\n",
        "    \n",
        "data = pd.read_csv('term-deposit-marketing-2020.csv')\n",
        "data.drop( columns = ['contact','duration'], inplace = True )\n",
        "data.dropna( axis = 0, inplace = True )\n",
        "data.columns\n"
      ],
      "execution_count": 73,
      "outputs": [
        {
          "output_type": "execute_result",
          "data": {
            "text/plain": [
              "Index(['age', 'job', 'marital', 'education', 'default', 'balance', 'housing',\n",
              "       'loan', 'day', 'month', 'campaign', 'y'],\n",
              "      dtype='object')"
            ]
          },
          "metadata": {
            "tags": []
          },
          "execution_count": 73
        }
      ]
    },
    {
      "cell_type": "code",
      "metadata": {
        "id": "3Ynm08tFLGm9"
      },
      "source": [
        "\n",
        "def cat_to_num( method, data ):\n",
        "    new_col = list()\n",
        "\n",
        "    if isinstance( data, pd.DataFrame ):\n",
        "        columns = data.columns\n",
        "        print(columns)\n",
        "        for col in columns:\n",
        "            temp =  set( data[ col ] )\n",
        "            temp = list( temp )\n",
        "            print(  )\n",
        "            for i in range(len(temp)):\n",
        "                temp[i] = str(col) + '_' + str(temp[i])\n",
        "            new_col = new_col + temp\n",
        "\n",
        "\n",
        "\n",
        "    new = np.array(method.fit_transform( data ))\n",
        "\n",
        "    return new, new_col\n",
        "\n",
        "\n",
        "def pca():\n",
        "    #pca transformation for dimension reduction\n",
        "    pass\n",
        "    \n",
        "\n",
        "\n",
        "\n",
        "def preprocess( level_columns = [ 3 ], cat_columns = [ 1,2,4,6,7,9,10 ] ):\n",
        "    #process data for training\n",
        "\n",
        "    #read data and \n",
        "    data = pd.read_csv('term-deposit-marketing-2020.csv')\n",
        "    data.drop( columns = ['contact','duration'], inplace = True )\n",
        "    data.dropna( axis = 0, inplace = True )\n",
        "\n",
        "    X, Y, columns = prepare( data, level_columns, cat_columns, LabelEncoder(), OneHotEncoder(sparse=False), MinMaxScaler() )\n",
        "    \n",
        "    X, X_t, Y, Y_t = train_test_split( X,Y, test_size = 0.3, stratify = Y )\n",
        "\n",
        "    ind_list = np.array( [ x for x in range( X.shape[ 0 ] ) ] )\n",
        "    \n",
        "    return X, X_t, Y, Y_t, ind_list, columns\n",
        "\n",
        "\n",
        "\n",
        "def prepare(  df, LCC ,CC, level_enc, cat_enc, scaler ):\n",
        "\n",
        "    \"\"\"\n",
        "      Given dataframe with target column name --y--\n",
        "      All nan values are dropped\n",
        "      CC for categorical feature column positions\n",
        "      method for encoding object\n",
        "      scaler for scaling object\n",
        "    \"\"\"\n",
        "\n",
        "    y = df.y\n",
        "    x = df.drop( columns = 'y' )\n",
        "\n",
        "    NotNum = CC + LCC\n",
        "    \n",
        "    NC = [x for x in range( len( x.columns ) ) if x not in NotNum]\n",
        "    \n",
        "    LVL = x.iloc[ :, LCC ]\n",
        "    CAT = x.iloc[ :, CC ]\n",
        "    NUM = x.iloc[ :, NC ]\n",
        "    num_cols = list( NUM.columns )\n",
        "    lvl_cols =  LVL.columns \n",
        "\n",
        "    #print(x_C.columns)\n",
        "    #print(x_N.columns)\n",
        "    \n",
        "    LVL, _ = cat_to_num( level_enc, np.array(LVL) )\n",
        "    LVL = LVL.reshape(-1,1)\n",
        "    CAT, cat_cols = cat_to_num( cat_enc, CAT )\n",
        "    DATA = np.concatenate( [ NUM, CAT, LVL ], axis = 1 )\n",
        "    DATA = scaler.fit_transform( DATA )\n",
        "\n",
        "    columns = num_cols + cat_cols\n",
        "    columns = columns + list(lvl_cols)\n",
        "\n",
        "    y, __ = cat_to_num( level_enc, y )\n",
        "\n",
        "    return DATA, y, columns\n",
        "\n",
        "\n"
      ],
      "execution_count": 74,
      "outputs": []
    },
    {
      "cell_type": "code",
      "metadata": {
        "id": "GL5lstUpCuYU",
        "colab": {
          "base_uri": "https://localhost:8080/"
        },
        "outputId": "09331b73-e901-4aeb-cb2d-04034b38a5bb"
      },
      "source": [
        "\n",
        "\n",
        "class Cascade( BaseEstimator, ClassifierMixin ):\n",
        "    def __init__(self, classifiers, args):\n",
        "        self.th = 0.9\n",
        "\n",
        "        self.classifiers = classifiers\n",
        "        self.stage = 0\n",
        "\n",
        "    def train( self, X, Y ):\n",
        "        #train current classifier with current training set\n",
        "        self.classifiers[ self.stage ].fit( X, Y )\n",
        "    \n",
        "    def divide_instances( self, X, Y  ):\n",
        "        #Get predicted probs of training set\n",
        "        probs = self.classifiers[ self.stage ].predict_proba( X )[ :, 0 ]\n",
        "\n",
        "        #Mask instances below threshold \n",
        "        #Update training set\n",
        "        #Update index dict\n",
        "        X = X[ probs < self.th ]\n",
        "        Y = Y[ probs < self.th ]\n",
        "\n",
        "\n",
        "    def fit( self, X, Y  ):\n",
        "        for i in range( len( self.classifiers ) ):\n",
        "            #train classifier in position --i--\n",
        "            self.train( X, Y )\n",
        "            \n",
        "            #make prediction with probs and separe D' set\n",
        "            self.divide_instances( X, Y )\n",
        "            self.stage += 1\n",
        "\n",
        "    def label_probs( self, y ):\n",
        "\n",
        "        yy = [ 0 for x in range( len( y ) ) ]\n",
        "        for i in range( len( y ) ):\n",
        "            if y[ i ] < 0.7:\n",
        "                yy[ i ] = 1\n",
        "            else:\n",
        "                yy[ i ] = 0\n",
        "        return yy\n",
        "\n",
        "    def predict( self, X ):\n",
        "        #initialize stage\n",
        "        self.stage = 0\n",
        "        self.info = {}\n",
        "\n",
        "        #create index list\n",
        "        inds = np.array( [ x for x in range( X.shape[ 0 ] ) ] )\n",
        "        y = np.array( [ self.th for x in range( X.shape[ 0 ] ) ] )\n",
        "\n",
        "        #start prediction stages\n",
        "        for clf in self.classifiers:\n",
        "\n",
        "            #get class 0 probs\n",
        "            probs = clf.predict_proba( X )[ :, 0 ]\n",
        "\n",
        "            #save inst under threshold\n",
        "            self.info[ 'stage_' + str( self.stage ) ] = inds[ probs < self.th ]\n",
        "            self.info[ 'prob_' + str( self.stage ) ] = probs[ probs < self.th ]\n",
        "\n",
        "            #update instances\n",
        "            X = X[ probs < self.th  ]\n",
        "            #update indexes\n",
        "            inds = inds[ probs < self.th ]\n",
        "            \n",
        "            self.stage += 1\n",
        "\n",
        "        probs = probs[ probs < self.th ]\n",
        "        c = 0\n",
        "        for i in range( len( y ) ):\n",
        "            if i in inds:\n",
        "                y[ i ] = probs[ c ]\n",
        "                c = c + 1\n",
        "        \n",
        "        return self.label_probs( y )\n",
        "\n",
        "\n",
        "X, X_t, Y, Y_t, ind_list, columns = preprocess()\n",
        "\n",
        "            "
      ],
      "execution_count": 80,
      "outputs": [
        {
          "output_type": "stream",
          "text": [
            "Index(['job', 'marital', 'default', 'housing', 'loan', 'month', 'campaign'], dtype='object')\n",
            "\n",
            "\n",
            "\n",
            "\n",
            "\n",
            "\n",
            "\n"
          ],
          "name": "stdout"
        },
        {
          "output_type": "stream",
          "text": [
            "/usr/local/lib/python3.6/dist-packages/sklearn/preprocessing/_label.py:251: DataConversionWarning: A column-vector y was passed when a 1d array was expected. Please change the shape of y to (n_samples, ), for example using ravel().\n",
            "  y = column_or_1d(y, warn=True)\n"
          ],
          "name": "stderr"
        }
      ]
    },
    {
      "cell_type": "code",
      "metadata": {
        "id": "KxSTy7fz5cGm",
        "colab": {
          "base_uri": "https://localhost:8080/"
        },
        "outputId": "a6aa2ac7-3843-4ead-c2b4-1527c5da72ee"
      },
      "source": [
        "\n",
        "classifiers = [ ExtraTreesClassifier(), RandomForestClassifier()  ]\n",
        "\n",
        "ccc = Cascade( classifiers, ind_list )\n",
        "\n",
        "results = cross_validate( ccc, X, Y, cv = 5, )"
      ],
      "execution_count": 81,
      "outputs": [
        {
          "output_type": "stream",
          "text": [
            "/usr/local/lib/python3.6/dist-packages/sklearn/base.py:197: FutureWarning: From version 0.24, get_params will raise an AttributeError if a parameter cannot be retrieved as an instance attribute. Previously it would return None.\n",
            "  FutureWarning)\n",
            "/usr/local/lib/python3.6/dist-packages/sklearn/base.py:197: FutureWarning: From version 0.24, get_params will raise an AttributeError if a parameter cannot be retrieved as an instance attribute. Previously it would return None.\n",
            "  FutureWarning)\n",
            "/usr/local/lib/python3.6/dist-packages/sklearn/base.py:197: FutureWarning: From version 0.24, get_params will raise an AttributeError if a parameter cannot be retrieved as an instance attribute. Previously it would return None.\n",
            "  FutureWarning)\n",
            "/usr/local/lib/python3.6/dist-packages/sklearn/base.py:197: FutureWarning: From version 0.24, get_params will raise an AttributeError if a parameter cannot be retrieved as an instance attribute. Previously it would return None.\n",
            "  FutureWarning)\n",
            "/usr/local/lib/python3.6/dist-packages/sklearn/base.py:197: FutureWarning: From version 0.24, get_params will raise an AttributeError if a parameter cannot be retrieved as an instance attribute. Previously it would return None.\n",
            "  FutureWarning)\n"
          ],
          "name": "stderr"
        }
      ]
    },
    {
      "cell_type": "code",
      "metadata": {
        "id": "2nSk6ZKZ50j0"
      },
      "source": [
        ""
      ],
      "execution_count": null,
      "outputs": []
    },
    {
      "cell_type": "code",
      "metadata": {
        "id": "KGUmSJGXEXLq",
        "colab": {
          "base_uri": "https://localhost:8080/"
        },
        "outputId": "00705988-198e-49ba-cbc7-4442d9f121f7"
      },
      "source": [
        "np.mean(results[ 'test_score' ])"
      ],
      "execution_count": 82,
      "outputs": [
        {
          "output_type": "execute_result",
          "data": {
            "text/plain": [
              "0.9140357142857143"
            ]
          },
          "metadata": {
            "tags": []
          },
          "execution_count": 82
        }
      ]
    },
    {
      "cell_type": "code",
      "metadata": {
        "id": "5uEudiA1I7hf",
        "colab": {
          "base_uri": "https://localhost:8080/"
        },
        "outputId": "ac78729c-ce30-459c-b5ea-edd01a03ca54"
      },
      "source": [
        "from sklearn.model_selection import train_test_split\n",
        "from sklearn.ensemble import RandomForestClassifier\n",
        "from sklearn.model_selection import train_test_split\n",
        "# fitting the model\n",
        "model = RandomForestClassifier(n_estimators=500, n_jobs=-1, random_state=42)\n",
        "model.fit(X_t, Y_t)\n",
        "# plotting feature importances\n"
      ],
      "execution_count": 83,
      "outputs": [
        {
          "output_type": "execute_result",
          "data": {
            "text/plain": [
              "RandomForestClassifier(bootstrap=True, ccp_alpha=0.0, class_weight=None,\n",
              "                       criterion='gini', max_depth=None, max_features='auto',\n",
              "                       max_leaf_nodes=None, max_samples=None,\n",
              "                       min_impurity_decrease=0.0, min_impurity_split=None,\n",
              "                       min_samples_leaf=1, min_samples_split=2,\n",
              "                       min_weight_fraction_leaf=0.0, n_estimators=500,\n",
              "                       n_jobs=-1, oob_score=False, random_state=42, verbose=0,\n",
              "                       warm_start=False)"
            ]
          },
          "metadata": {
            "tags": []
          },
          "execution_count": 83
        }
      ]
    },
    {
      "cell_type": "code",
      "metadata": {
        "id": "1W_ggKvz6wmN"
      },
      "source": [
        "columns"
      ],
      "execution_count": null,
      "outputs": []
    },
    {
      "cell_type": "code",
      "metadata": {
        "id": "25ITxLEwqMib"
      },
      "source": [
        "np.mean(data.duration)"
      ],
      "execution_count": null,
      "outputs": []
    },
    {
      "cell_type": "code",
      "metadata": {
        "id": "hGp02EKyW-XI",
        "colab": {
          "base_uri": "https://localhost:8080/",
          "height": 893
        },
        "outputId": "ff0117f6-c178-47c0-bff7-f01f716eccea"
      },
      "source": [
        "\n",
        "importances = model.feature_importances_\n",
        "indices = np.argsort(importances)\n",
        "plt.figure(figsize=(10,15))\n",
        "plt.title('Feature Importances')\n",
        "plt.barh(range(len(indices)), importances[indices], color='b', align='center')\n",
        "plt.yticks(range(len(indices)), [columns[i] for i in indices])\n",
        "plt.xlabel('Relative Importance')\n",
        "plt.show()\n"
      ],
      "execution_count": 84,
      "outputs": [
        {
          "output_type": "display_data",
          "data": {
            "image/png": "[encoded data removed]",
            "text/plain": [
              "<Figure size 720x1080 with 1 Axes>"
            ]
          },
          "metadata": {
            "tags": [],
            "needs_background": "light"
          }
        }
      ]
    },
    {
      "cell_type": "code",
      "metadata": {
        "id": "pL4B2rHDU4He"
      },
      "source": [
        ""
      ],
      "execution_count": 5,
      "outputs": []
    },
    {
      "cell_type": "code",
      "metadata": {
        "colab": {
          "base_uri": "https://localhost:8080/",
          "height": 280
        },
        "id": "55E4p7jTGy2Y",
        "outputId": "3951c3ff-9e3b-443f-eda2-76a88ccb15f3"
      },
      "source": [
        "#BALANCE AS CATEGORIES\n",
        "\n",
        "data[\"balance_cat\"] = np.nan\n",
        "data.loc[data['balance'] <0, 'balance_cat'] = 'negative'\n",
        "data.loc[(data['balance'] >=0)&(data['balance'] <=5000), 'balance_cat'] = 'low'\n",
        "data.loc[(data['balance'] >5000)&(data['balance'] <=20000), 'balance_cat'] = 'mid'\n",
        "data.loc[(data['balance'] >20000), 'balance_cat'] = 'high'\n",
        "sns.countplot(x=\"balance_cat\",hue=\"y\",data=data)\n",
        "plt.show()\n"
      ],
      "execution_count": null,
      "outputs": [
        {
          "output_type": "display_data",
          "data": {
            "image/png": "[encoded data removed]",
            "text/plain": [
              "<Figure size 432x288 with 1 Axes>"
            ]
          },
          "metadata": {
            "tags": [],
            "needs_background": "light"
          }
        }
      ]
    },
    {
      "cell_type": "code",
      "metadata": {
        "colab": {
          "base_uri": "https://localhost:8080/"
        },
        "id": "EP7WCcgxNT25",
        "outputId": "902963d4-6dd8-40a4-fc7d-74dd51bffad9"
      },
      "source": [
        "R = list()\n",
        "for value in list(set(data.balance_cat) ):\n",
        "    R.append( (ww( data, 'balance_cat', value ),value) )\n",
        "print(R)\n",
        "\n",
        "#The chance is higher with Middle income group "
      ],
      "execution_count": null,
      "outputs": [
        {
          "output_type": "stream",
          "text": [
            "[(1.0557060914241474, 'high'), (0.7292936143495367, 'negative'), (1.0072889611552895, 'low'), (1.344601896835577, 'mid')]\n"
          ],
          "name": "stdout"
        }
      ]
    },
    {
      "cell_type": "code",
      "metadata": {
        "colab": {
          "base_uri": "https://localhost:8080/",
          "height": 279
        },
        "id": "hewiTZjhGM0u",
        "outputId": "f13ed371-de18-4192-e8a1-ed9ed88bbd25"
      },
      "source": [
        "sns.countplot(x=\"education\",hue=\"y\",data=data)\n",
        "plt.show()"
      ],
      "execution_count": null,
      "outputs": [
        {
          "output_type": "display_data",
          "data": {
            "image/png": "[encoded data removed]",
            "text/plain": [
              "<Figure size 432x288 with 1 Axes>"
            ]
          },
          "metadata": {
            "tags": [],
            "needs_background": "light"
          }
        }
      ]
    },
    {
      "cell_type": "code",
      "metadata": {
        "colab": {
          "base_uri": "https://localhost:8080/"
        },
        "id": "ZyRRwzQTTcZf",
        "outputId": "deef1f83-0a23-4990-dab6-aab0e2297136"
      },
      "source": [
        "R = list()\n",
        "for value in list(set(data.education) ):\n",
        "    R.append( (ww( data, 'education', value ),value) )\n",
        "print(R)\n",
        "\n",
        "#Tertiary educated people more likely to have term deposit"
      ],
      "execution_count": null,
      "outputs": [
        {
          "output_type": "stream",
          "text": [
            "[(0.7776221064967793, 'primary'), (0.9329602895782414, 'secondary'), (1.2683122597109084, 'tertiary'), (0.8660789358776807, 'unknown')]\n"
          ],
          "name": "stdout"
        }
      ]
    },
    {
      "cell_type": "code",
      "metadata": {
        "id": "Zkw6GC-SDB1n"
      },
      "source": [
        ""
      ],
      "execution_count": null,
      "outputs": []
    },
    {
      "cell_type": "code",
      "metadata": {
        "colab": {
          "base_uri": "https://localhost:8080/",
          "height": 280
        },
        "id": "OgrFzs1TFXKt",
        "outputId": "29bdc939-f5fe-4ddd-ee0e-1e6aaf8993a7"
      },
      "source": [
        "data[\"age_cat\"] = np.nan\n",
        "data.loc[data['age'] <30, 'age_cat'] = 'young'\n",
        "data.loc[(data['age'] >=30)&(data['age'] <=42), 'age_cat'] = 'mid'\n",
        "data.loc[(data['age'] >42)&(data['age'] <=100), 'age_cat'] = 'old'\n",
        "sns.countplot(x=\"age_cat\",hue=\"y\",data=data)\n",
        "plt.show()"
      ],
      "execution_count": 88,
      "outputs": [
        {
          "output_type": "display_data",
          "data": {
            "image/png": "[encoded data removed]",
            "text/plain": [
              "<Figure size 432x288 with 1 Axes>"
            ]
          },
          "metadata": {
            "tags": [],
            "needs_background": "light"
          }
        }
      ]
    },
    {
      "cell_type": "code",
      "metadata": {
        "colab": {
          "base_uri": "https://localhost:8080/"
        },
        "id": "82QVRn9lXFzC",
        "outputId": "6c5d62ad-cfd0-4999-a17b-9b70426050f9"
      },
      "source": [
        "R = list()\n",
        "for value in list(set(data.age_cat) ):\n",
        "    R.append( (ww( data, 'age_cat', value ),value) )\n",
        "print(R)\n",
        "\n",
        "#Young people are more likely to have term deposit\n"
      ],
      "execution_count": 89,
      "outputs": [
        {
          "output_type": "stream",
          "text": [
            "[(1.5027262362427836, 'young'), (0.8990839235669148, 'old'), (0.9716022594531467, 'mid')]\n"
          ],
          "name": "stdout"
        }
      ]
    },
    {
      "cell_type": "code",
      "metadata": {
        "id": "lcKKv4I4ICdP",
        "colab": {
          "base_uri": "https://localhost:8080/",
          "height": 606
        },
        "outputId": "f8b7ea94-df6e-4d93-ff37-8b2eedc33445"
      },
      "source": [
        "plt.figure(figsize=(15,10))\n",
        "sns.countplot(x=\"job\",hue=\"y\",data=data)\n",
        "plt.show()"
      ],
      "execution_count": 15,
      "outputs": [
        {
          "output_type": "display_data",
          "data": {
            "image/png": "[encoded data removed]",
            "text/plain": [
              "<Figure size 1080x720 with 1 Axes>"
            ]
          },
          "metadata": {
            "tags": [],
            "needs_background": "light"
          }
        }
      ]
    },
    {
      "cell_type": "code",
      "metadata": {
        "colab": {
          "base_uri": "https://localhost:8080/"
        },
        "id": "hlCe6J2rNxGx",
        "outputId": "205c071e-6360-45aa-c69a-e60e49e8973f"
      },
      "source": [
        "R = list()\n",
        "for value in list(set(data.job) ):\n",
        "    R.append( (ww( data, 'job', value ),value) )\n",
        "print(R)\n",
        "\n",
        "#We can see that retired people and students are more likely to buy the service"
      ],
      "execution_count": 63,
      "outputs": [
        {
          "output_type": "stream",
          "text": [
            "[(1.001844845881188, 'technician'), (0.9991771482308686, 'unknown'), (1.45138159994156, 'retired'), (2.161444055501666, 'student'), (0.7875415925003665, 'blue-collar'), (1.2010569300984866, 'unemployed'), (0.673453724834432, 'housemaid'), (1.143401490887293, 'management'), (1.0940320551392155, 'self-employed'), (0.8407398510689407, 'services'), (0.8651029275869526, 'entrepreneur'), (1.0814334816735536, 'admin')]\n"
          ],
          "name": "stdout"
        }
      ]
    },
    {
      "cell_type": "code",
      "metadata": {
        "id": "UqE5LJjZGMx7"
      },
      "source": [
        ""
      ],
      "execution_count": null,
      "outputs": []
    },
    {
      "cell_type": "code",
      "metadata": {
        "colab": {
          "base_uri": "https://localhost:8080/",
          "height": 279
        },
        "id": "RO82Y24MGM22",
        "outputId": "65623d0f-e292-47d9-8bc5-ea5f1877e6e8"
      },
      "source": [
        "sns.countplot(x=\"marital\",hue=\"y\",data=data)\n",
        "plt.show()"
      ],
      "execution_count": 17,
      "outputs": [
        {
          "output_type": "display_data",
          "data": {
            "image/png": "[encoded data removed]",
            "text/plain": [
              "<Figure size 432x288 with 1 Axes>"
            ]
          },
          "metadata": {
            "tags": [],
            "needs_background": "light"
          }
        }
      ]
    },
    {
      "cell_type": "code",
      "metadata": {
        "colab": {
          "base_uri": "https://localhost:8080/"
        },
        "id": "-W97SoPtS85g",
        "outputId": "e611e8e7-f24d-484d-f885-7964f30f5722"
      },
      "source": [
        "R = list()\n",
        "for value in list(set(data.marital) ):\n",
        "    R.append( (ww( data, 'marital', value ),value) )\n",
        "print(R)\n",
        "\n",
        "#We can say that single people are who we should focus on"
      ],
      "execution_count": 64,
      "outputs": [
        {
          "output_type": "stream",
          "text": [
            "[(0.8371346116986785, 'married'), (1.3026983995709593, 'single'), (1.1429740711508667, 'divorced')]\n"
          ],
          "name": "stdout"
        }
      ]
    },
    {
      "cell_type": "code",
      "metadata": {
        "id": "HF3P1MxSUKso"
      },
      "source": [
        ""
      ],
      "execution_count": null,
      "outputs": []
    },
    {
      "cell_type": "code",
      "metadata": {
        "id": "jxh0eUg6Ir7p"
      },
      "source": [
        ""
      ],
      "execution_count": null,
      "outputs": []
    },
    {
      "cell_type": "code",
      "metadata": {
        "id": "ej9Gwjk2J1Bz"
      },
      "source": [
        ""
      ],
      "execution_count": 44,
      "outputs": []
    },
    {
      "cell_type": "code",
      "metadata": {
        "id": "PB6rBb17KQln"
      },
      "source": [
        ""
      ],
      "execution_count": null,
      "outputs": []
    },
    {
      "cell_type": "code",
      "metadata": {
        "id": "Dm5irnr2KVWR"
      },
      "source": [
        ""
      ],
      "execution_count": null,
      "outputs": []
    }
  ]
}
